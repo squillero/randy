{
 "cells": [
  {
   "cell_type": "markdown",
   "metadata": {},
   "source": [
    "```\n",
    "  @..@    古池や\n",
    " (----)    蛙飛び込む\n",
    "( >__< )    水の音\n",
    "```"
   ]
  },
  {
   "cell_type": "code",
   "execution_count": null,
   "metadata": {},
   "outputs": [],
   "source": [
    "import numpy as np\n",
    "import matplotlib.pyplot as plt\n",
    "import pandas as pd\n",
    "import seaborn as sns"
   ]
  },
  {
   "cell_type": "code",
   "execution_count": null,
   "metadata": {},
   "outputs": [],
   "source": [
    "import randy\n",
    "the_ram = randy.Randy()"
   ]
  },
  {
   "cell_type": "code",
   "execution_count": null,
   "metadata": {
    "pycharm": {
     "name": "#%%\n"
    }
   },
   "outputs": [],
   "source": [
    "SAMPLES = 5_000"
   ]
  },
  {
   "cell_type": "markdown",
   "metadata": {},
   "source": [
    "## Sigma Random"
   ]
  },
  {
   "cell_type": "code",
   "execution_count": null,
   "metadata": {
    "pycharm": {
     "name": "#%%\n"
    }
   },
   "outputs": [],
   "source": [
    "stat = pd.DataFrame()\n",
    "for s in np.linspace(0, 1, num=6):\n",
    "    samples = [the_ram.sigma_random(a=2, b=10, loc=4, strength=s) for _ in range(SAMPLES)]\n",
    "    stat[f'{s:g}'] = samples"
   ]
  },
  {
   "cell_type": "code",
   "execution_count": null,
   "metadata": {
    "pycharm": {
     "name": "#%%\n"
    }
   },
   "outputs": [],
   "source": [
    "fig, ax = plt.subplots()\n",
    "sns.histplot(stat, element='step', stat='count', common_norm=False, alpha=.3, ax=ax)\n",
    "ax.set_ylim(0, SAMPLES/10)"
   ]
  },
  {
   "cell_type": "code",
   "execution_count": null,
   "metadata": {
    "pycharm": {
     "name": "#%%\n"
    }
   },
   "outputs": [],
   "source": [
    "sns.histplot(stat, element='step', stat='probability', cumulative=True, common_norm=False, alpha=.2)"
   ]
  },
  {
   "cell_type": "markdown",
   "metadata": {
    "pycharm": {
     "name": "#%%\n"
    }
   },
   "source": [
    "## Sigma Choice"
   ]
  },
  {
   "cell_type": "code",
   "execution_count": null,
   "metadata": {
    "pycharm": {
     "name": "#%%\n"
    }
   },
   "outputs": [],
   "source": [
    "seq = list(\"ABCDEF\")\n",
    "\n",
    "data = list()\n",
    "for s in np.linspace(1, 0, num=6):\n",
    "    samples = [the_ram.sigma_choice(seq, loc=2, strength=s) for _ in range(SAMPLES)]\n",
    "    df = pd.DataFrame()\n",
    "    df[f'letter'] = samples\n",
    "    df['strength'] = int(s*10)/10\n",
    "    data.append(df)\n",
    "stat = pd.concat(data)"
   ]
  },
  {
   "cell_type": "code",
   "execution_count": null,
   "metadata": {},
   "outputs": [],
   "source": [
    "sns.countplot(x='letter', hue='strength', data=stat, order=seq, alpha=.9)"
   ]
  },
  {
   "cell_type": "markdown",
   "metadata": {},
   "source": [
    "## Boolean"
   ]
  },
  {
   "cell_type": "code",
   "execution_count": null,
   "metadata": {},
   "outputs": [],
   "source": [
    "data = list()\n",
    "for s in np.linspace(0, 1, num=6):\n",
    "    samples = [the_ram.boolean(p_true=s) for _ in range(SAMPLES)]\n",
    "    df = pd.DataFrame()\n",
    "    df[f'boolean'] = samples\n",
    "    df['p'] = int(s*10)/10\n",
    "    data.append(df)\n",
    "stat = pd.concat(data)"
   ]
  },
  {
   "cell_type": "code",
   "execution_count": null,
   "metadata": {},
   "outputs": [],
   "source": [
    "sns.countplot(x='boolean', hue='p', data=stat, order=[True, False], alpha=.9)"
   ]
  },
  {
   "cell_type": "code",
   "execution_count": null,
   "metadata": {},
   "outputs": [],
   "source": []
  }
 ],
 "metadata": {
  "kernelspec": {
   "display_name": "PyCharm (randy)",
   "language": "python",
   "name": "pycharm-43edcfc5"
  },
  "language_info": {
   "codemirror_mode": {
    "name": "ipython",
    "version": 3
   },
   "file_extension": ".py",
   "mimetype": "text/x-python",
   "name": "python",
   "nbconvert_exporter": "python",
   "pygments_lexer": "ipython3",
   "version": "3.8.8"
  }
 },
 "nbformat": 4,
 "nbformat_minor": 1
}
