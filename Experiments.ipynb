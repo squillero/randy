{
 "cells": [
  {
   "cell_type": "code",
   "execution_count": 60,
   "id": "acfb2739",
   "metadata": {},
   "outputs": [],
   "source": [
    "%matplotlib inline\n",
    "\n",
    "import math\n",
    "\n",
    "import randy\n",
    "import pandas as pd\n",
    "import seaborn as sns"
   ]
  },
  {
   "cell_type": "code",
   "execution_count": 2,
   "id": "f06abe97",
   "metadata": {},
   "outputs": [],
   "source": [
    "from scipy.stats import truncnorm\n",
    "import numpy as np\n",
    "import matplotlib.pyplot as plt"
   ]
  },
  {
   "cell_type": "code",
   "execution_count": 208,
   "id": "8aef7090",
   "metadata": {},
   "outputs": [
    {
     "data": {
      "text/plain": [
       "[<matplotlib.lines.Line2D at 0x23b9d3ab6d0>]"
      ]
     },
     "execution_count": 208,
     "metadata": {},
     "output_type": "execute_result"
    },
    {
     "data": {
      "image/png": "[encoded data removed]",
      "text/plain": [
       "<Figure size 432x288 with 1 Axes>"
      ]
     },
     "metadata": {
      "needs_background": "light"
     },
     "output_type": "display_data"
    }
   ],
   "source": [
    "def stretch(s):\n",
    "    assert 0 <= s <= 1, \"Invalis sigma\"\n",
    "    x = s/2+.5\n",
    "    if math.isclose(x, 0):\n",
    "        x = 1e-9\n",
    "    elif math.isclose(x, 1):\n",
    "        x = 1-1e-9\n",
    "    \n",
    "    val = np.log(x/(1-x))\n",
    "    #val = val ** .5\n",
    "    #val = np.log(val)    \n",
    "    return val\n",
    "\n",
    "x = np.linspace(0, 1, 1000)\n",
    "y = [stretch(s) for s in x]\n",
    "plt.plot(x, y)"
   ]
  },
  {
   "cell_type": "code",
   "execution_count": 195,
   "id": "e6bcbaac",
   "metadata": {},
   "outputs": [
    {
     "name": "stderr",
     "output_type": "stream",
     "text": [
      "<ipython-input-195-2a59e2bd7e2c>:6: RuntimeWarning: divide by zero encountered in double_scalars\n",
      "  a, b = (myclip_a - my_mean) / my_std, (myclip_b - my_mean) / my_std\n",
      "<ipython-input-195-2a59e2bd7e2c>:9: RuntimeWarning: divide by zero encountered in double_scalars\n",
      "  a, b = (myclip_a - my_mean) / my_std, (myclip_b - my_mean) / my_std\n"
     ]
    },
    {
     "data": {
      "text/plain": [
       "(1.0, 20000.0)"
      ]
     },
     "execution_count": 195,
     "metadata": {},
     "output_type": "execute_result"
    },
    {
     "data": {
      "image/png": "[encoded data removed]",
      "text/plain": [
       "<Figure size 432x288 with 1 Axes>"
      ]
     },
     "metadata": {
      "needs_background": "light"
     },
     "output_type": "display_data"
    }
   ],
   "source": [
    "SAMPLES = 1_000_000\n",
    "z = pd.DataFrame()\n",
    "myclip_a = .2\n",
    "myclip_b = 1.8\n",
    "my_mean = 1.8-1e-9\n",
    "a, b = (myclip_a - my_mean) / my_std, (myclip_b - my_mean) / my_std\n",
    "for s in np.linspace(0, 1, num=6):\n",
    "    my_std = stretch(s)\n",
    "    a, b = (myclip_a - my_mean) / my_std, (myclip_b - my_mean) / my_std\n",
    "    z[f's={s:g}'] = truncnorm.rvs(a, b, loc=my_mean, scale=my_std, size=SAMPLES)\n",
    "\n",
    "fig, ax = plt.subplots()\n",
    "sns.histplot(z, bins=100, ax=ax)\n",
    "ax.set_ylim(1, SAMPLES//50) "
   ]
  },
  {
   "cell_type": "code",
   "execution_count": 197,
   "id": "70854bbe",
   "metadata": {},
   "outputs": [
    {
     "data": {
      "text/plain": [
       "-20.72326583694641"
      ]
     },
     "execution_count": 197,
     "metadata": {},
     "output_type": "execute_result"
    }
   ],
   "source": [
    "math.log(1e-9)"
   ]
  },
  {
   "cell_type": "code",
   "execution_count": 213,
   "id": "a73e27ce",
   "metadata": {},
   "outputs": [],
   "source": [
    "def _stretch(sigma: float):\n",
    "    assert 0 <= s <= 1, \"Invalis sigma (must be [0, 1])\"\n",
    "    x = sigma / 2 + .5\n",
    "    if math.isclose(x, 0):\n",
    "        x = 1e-9\n",
    "    elif math.isclose(x, 1):\n",
    "        x = 1 - 1e-9\n",
    "\n",
    "    print(x)\n",
    "    val = math.log(x / (1 - x))\n",
    "    return val\n"
   ]
  },
  {
   "cell_type": "code",
   "execution_count": 214,
   "id": "cd4f4d25",
   "metadata": {},
   "outputs": [
    {
     "name": "stdout",
     "output_type": "stream",
     "text": [
      "0.5\n",
      "0.999999999\n"
     ]
    },
    {
     "data": {
      "text/plain": [
       "(0.0, 20.723265864228342)"
      ]
     },
     "execution_count": 214,
     "metadata": {},
     "output_type": "execute_result"
    }
   ],
   "source": [
    "_stretch(0), _stretch(1)"
   ]
  },
  {
   "cell_type": "code",
   "execution_count": 205,
   "id": "7228fb33",
   "metadata": {},
   "outputs": [
    {
     "data": {
      "text/plain": [
       "20.723265864228342"
      ]
     },
     "execution_count": 205,
     "metadata": {},
     "output_type": "execute_result"
    }
   ],
   "source": [
    "_stretch(0)"
   ]
  },
  {
   "cell_type": "code",
   "execution_count": null,
   "id": "2d3ca795",
   "metadata": {},
   "outputs": [],
   "source": []
  }
 ],
 "metadata": {
  "kernelspec": {
   "display_name": "PyCharm (randy)",
   "language": "python",
   "name": "pycharm-43edcfc5"
  },
  "language_info": {
   "codemirror_mode": {
    "name": "ipython",
    "version": 3
   },
   "file_extension": ".py",
   "mimetype": "text/x-python",
   "name": "python",
   "nbconvert_exporter": "python",
   "pygments_lexer": "ipython3",
   "version": "3.8.8"
  }
 },
 "nbformat": 4,
 "nbformat_minor": 5
}
